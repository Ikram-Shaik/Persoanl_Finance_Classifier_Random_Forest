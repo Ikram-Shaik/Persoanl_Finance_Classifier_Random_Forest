{
 "cells": [
  {
   "cell_type": "markdown",
   "id": "9e747d2d-ac65-464f-b44b-36fa27380d3c",
   "metadata": {},
   "source": [
    "# <center>Model Building</center>"
   ]
  },
  {
   "cell_type": "code",
   "execution_count": 1,
   "id": "d9614219-dd48-4450-9118-b10b5486736b",
   "metadata": {},
   "outputs": [],
   "source": [
    "import pandas as pd\n",
    "from sklearn.model_selection import train_test_split\n",
    "from sklearn.preprocessing import LabelEncoder, StandardScaler\n",
    "from sklearn.ensemble import RandomForestClassifier\n",
    "from sklearn.linear_model import LogisticRegression\n",
    "from xgboost import XGBClassifier\n",
    "from sklearn.preprocessing import MultiLabelBinarizer\n",
    "from sklearn.metrics import classification_report, confusion_matrix, accuracy_score\n",
    "import joblib"
   ]
  },
  {
   "cell_type": "code",
   "execution_count": 2,
   "id": "9b8cce80-714d-4cd0-913e-39de05e639a5",
   "metadata": {},
   "outputs": [],
   "source": [
    "df = pd.read_csv(\"final_dataset.csv\")"
   ]
  },
  {
   "cell_type": "code",
   "execution_count": 3,
   "id": "f999573d-3aa1-49fa-ba12-18674bce7ab8",
   "metadata": {},
   "outputs": [
    {
     "data": {
      "text/html": [
       "<div>\n",
       "<style scoped>\n",
       "    .dataframe tbody tr th:only-of-type {\n",
       "        vertical-align: middle;\n",
       "    }\n",
       "\n",
       "    .dataframe tbody tr th {\n",
       "        vertical-align: top;\n",
       "    }\n",
       "\n",
       "    .dataframe thead th {\n",
       "        text-align: right;\n",
       "    }\n",
       "</style>\n",
       "<table border=\"1\" class=\"dataframe\">\n",
       "  <thead>\n",
       "    <tr style=\"text-align: right;\">\n",
       "      <th></th>\n",
       "      <th>Income</th>\n",
       "      <th>Age</th>\n",
       "      <th>Occupation</th>\n",
       "      <th>City_Tier</th>\n",
       "      <th>Loan_Repayment</th>\n",
       "      <th>Fixed Expenses</th>\n",
       "      <th>Investment</th>\n",
       "      <th>Savings</th>\n",
       "      <th>Shopping_Frequency</th>\n",
       "      <th>Hobbies</th>\n",
       "      <th>Class</th>\n",
       "    </tr>\n",
       "  </thead>\n",
       "  <tbody>\n",
       "    <tr>\n",
       "      <th>0</th>\n",
       "      <td>44637.0</td>\n",
       "      <td>49</td>\n",
       "      <td>Self_Employed</td>\n",
       "      <td>Tier_1</td>\n",
       "      <td>0.00</td>\n",
       "      <td>33371.621929</td>\n",
       "      <td>5918.45</td>\n",
       "      <td>5347.18</td>\n",
       "      <td>8</td>\n",
       "      <td>Cooking, Baking</td>\n",
       "      <td>Neutral</td>\n",
       "    </tr>\n",
       "    <tr>\n",
       "      <th>1</th>\n",
       "      <td>26859.0</td>\n",
       "      <td>34</td>\n",
       "      <td>Retired</td>\n",
       "      <td>Tier_2</td>\n",
       "      <td>0.00</td>\n",
       "      <td>17181.777859</td>\n",
       "      <td>2021.16</td>\n",
       "      <td>7655.66</td>\n",
       "      <td>4</td>\n",
       "      <td>Cooking, Baking</td>\n",
       "      <td>Saver</td>\n",
       "    </tr>\n",
       "    <tr>\n",
       "      <th>2</th>\n",
       "      <td>50368.0</td>\n",
       "      <td>35</td>\n",
       "      <td>Student</td>\n",
       "      <td>Tier_3</td>\n",
       "      <td>4612.10</td>\n",
       "      <td>31864.051073</td>\n",
       "      <td>6762.07</td>\n",
       "      <td>7129.38</td>\n",
       "      <td>7</td>\n",
       "      <td>Video Games, Baking</td>\n",
       "      <td>Neutral</td>\n",
       "    </tr>\n",
       "    <tr>\n",
       "      <th>3</th>\n",
       "      <td>101456.0</td>\n",
       "      <td>21</td>\n",
       "      <td>Self_Employed</td>\n",
       "      <td>Tier_3</td>\n",
       "      <td>6809.44</td>\n",
       "      <td>63028.205206</td>\n",
       "      <td>15974.01</td>\n",
       "      <td>15643.94</td>\n",
       "      <td>15</td>\n",
       "      <td>Baking, Cooking</td>\n",
       "      <td>Spender</td>\n",
       "    </tr>\n",
       "    <tr>\n",
       "      <th>4</th>\n",
       "      <td>24875.0</td>\n",
       "      <td>52</td>\n",
       "      <td>Professional</td>\n",
       "      <td>Tier_2</td>\n",
       "      <td>3112.61</td>\n",
       "      <td>15496.973617</td>\n",
       "      <td>1874.66</td>\n",
       "      <td>4391.04</td>\n",
       "      <td>4</td>\n",
       "      <td>Gardening, Cooking</td>\n",
       "      <td>Neutral</td>\n",
       "    </tr>\n",
       "  </tbody>\n",
       "</table>\n",
       "</div>"
      ],
      "text/plain": [
       "     Income  Age     Occupation City_Tier  Loan_Repayment  Fixed Expenses  \\\n",
       "0   44637.0   49  Self_Employed    Tier_1            0.00    33371.621929   \n",
       "1   26859.0   34        Retired    Tier_2            0.00    17181.777859   \n",
       "2   50368.0   35        Student    Tier_3         4612.10    31864.051073   \n",
       "3  101456.0   21  Self_Employed    Tier_3         6809.44    63028.205206   \n",
       "4   24875.0   52   Professional    Tier_2         3112.61    15496.973617   \n",
       "\n",
       "   Investment   Savings  Shopping_Frequency              Hobbies    Class  \n",
       "0     5918.45   5347.18                   8      Cooking, Baking  Neutral  \n",
       "1     2021.16   7655.66                   4      Cooking, Baking    Saver  \n",
       "2     6762.07   7129.38                   7  Video Games, Baking  Neutral  \n",
       "3    15974.01  15643.94                  15      Baking, Cooking  Spender  \n",
       "4     1874.66   4391.04                   4   Gardening, Cooking  Neutral  "
      ]
     },
     "execution_count": 3,
     "metadata": {},
     "output_type": "execute_result"
    }
   ],
   "source": [
    "df.head()"
   ]
  },
  {
   "cell_type": "code",
   "execution_count": 4,
   "id": "a3fc4ca1-a066-4817-91b2-ff32ba90f5ac",
   "metadata": {},
   "outputs": [],
   "source": [
    "le_occupation = LabelEncoder()\n",
    "le_city = LabelEncoder()\n",
    "le_class = LabelEncoder()"
   ]
  },
  {
   "cell_type": "code",
   "execution_count": 5,
   "id": "e7f6a8ca-d078-47a5-a659-57aab9cf8daf",
   "metadata": {},
   "outputs": [],
   "source": [
    "df['Occupation'] = le_occupation.fit_transform(df['Occupation'])\n",
    "df['City_Tier'] = le_city.fit_transform(df['City_Tier'])\n",
    "df['Class'] = le_class.fit_transform(df['Class'])"
   ]
  },
  {
   "cell_type": "code",
   "execution_count": 6,
   "id": "cb84e2db-96c7-4dea-9a4e-9898e9df9574",
   "metadata": {},
   "outputs": [
    {
     "data": {
      "text/html": [
       "<div>\n",
       "<style scoped>\n",
       "    .dataframe tbody tr th:only-of-type {\n",
       "        vertical-align: middle;\n",
       "    }\n",
       "\n",
       "    .dataframe tbody tr th {\n",
       "        vertical-align: top;\n",
       "    }\n",
       "\n",
       "    .dataframe thead th {\n",
       "        text-align: right;\n",
       "    }\n",
       "</style>\n",
       "<table border=\"1\" class=\"dataframe\">\n",
       "  <thead>\n",
       "    <tr style=\"text-align: right;\">\n",
       "      <th></th>\n",
       "      <th>Income</th>\n",
       "      <th>Age</th>\n",
       "      <th>Occupation</th>\n",
       "      <th>City_Tier</th>\n",
       "      <th>Loan_Repayment</th>\n",
       "      <th>Fixed Expenses</th>\n",
       "      <th>Investment</th>\n",
       "      <th>Savings</th>\n",
       "      <th>Shopping_Frequency</th>\n",
       "      <th>Hobbies</th>\n",
       "      <th>Class</th>\n",
       "    </tr>\n",
       "  </thead>\n",
       "  <tbody>\n",
       "    <tr>\n",
       "      <th>0</th>\n",
       "      <td>44637.0</td>\n",
       "      <td>49</td>\n",
       "      <td>2</td>\n",
       "      <td>0</td>\n",
       "      <td>0.00</td>\n",
       "      <td>33371.621929</td>\n",
       "      <td>5918.45</td>\n",
       "      <td>5347.18</td>\n",
       "      <td>8</td>\n",
       "      <td>Cooking, Baking</td>\n",
       "      <td>0</td>\n",
       "    </tr>\n",
       "    <tr>\n",
       "      <th>1</th>\n",
       "      <td>26859.0</td>\n",
       "      <td>34</td>\n",
       "      <td>1</td>\n",
       "      <td>1</td>\n",
       "      <td>0.00</td>\n",
       "      <td>17181.777859</td>\n",
       "      <td>2021.16</td>\n",
       "      <td>7655.66</td>\n",
       "      <td>4</td>\n",
       "      <td>Cooking, Baking</td>\n",
       "      <td>1</td>\n",
       "    </tr>\n",
       "    <tr>\n",
       "      <th>2</th>\n",
       "      <td>50368.0</td>\n",
       "      <td>35</td>\n",
       "      <td>3</td>\n",
       "      <td>2</td>\n",
       "      <td>4612.10</td>\n",
       "      <td>31864.051073</td>\n",
       "      <td>6762.07</td>\n",
       "      <td>7129.38</td>\n",
       "      <td>7</td>\n",
       "      <td>Video Games, Baking</td>\n",
       "      <td>0</td>\n",
       "    </tr>\n",
       "    <tr>\n",
       "      <th>3</th>\n",
       "      <td>101456.0</td>\n",
       "      <td>21</td>\n",
       "      <td>2</td>\n",
       "      <td>2</td>\n",
       "      <td>6809.44</td>\n",
       "      <td>63028.205206</td>\n",
       "      <td>15974.01</td>\n",
       "      <td>15643.94</td>\n",
       "      <td>15</td>\n",
       "      <td>Baking, Cooking</td>\n",
       "      <td>2</td>\n",
       "    </tr>\n",
       "    <tr>\n",
       "      <th>4</th>\n",
       "      <td>24875.0</td>\n",
       "      <td>52</td>\n",
       "      <td>0</td>\n",
       "      <td>1</td>\n",
       "      <td>3112.61</td>\n",
       "      <td>15496.973617</td>\n",
       "      <td>1874.66</td>\n",
       "      <td>4391.04</td>\n",
       "      <td>4</td>\n",
       "      <td>Gardening, Cooking</td>\n",
       "      <td>0</td>\n",
       "    </tr>\n",
       "  </tbody>\n",
       "</table>\n",
       "</div>"
      ],
      "text/plain": [
       "     Income  Age  Occupation  City_Tier  Loan_Repayment  Fixed Expenses  \\\n",
       "0   44637.0   49           2          0            0.00    33371.621929   \n",
       "1   26859.0   34           1          1            0.00    17181.777859   \n",
       "2   50368.0   35           3          2         4612.10    31864.051073   \n",
       "3  101456.0   21           2          2         6809.44    63028.205206   \n",
       "4   24875.0   52           0          1         3112.61    15496.973617   \n",
       "\n",
       "   Investment   Savings  Shopping_Frequency              Hobbies  Class  \n",
       "0     5918.45   5347.18                   8      Cooking, Baking      0  \n",
       "1     2021.16   7655.66                   4      Cooking, Baking      1  \n",
       "2     6762.07   7129.38                   7  Video Games, Baking      0  \n",
       "3    15974.01  15643.94                  15      Baking, Cooking      2  \n",
       "4     1874.66   4391.04                   4   Gardening, Cooking      0  "
      ]
     },
     "execution_count": 6,
     "metadata": {},
     "output_type": "execute_result"
    }
   ],
   "source": [
    "df.head()"
   ]
  },
  {
   "cell_type": "code",
   "execution_count": 7,
   "id": "d1745c75-78be-4a1d-a1e8-ae901672743f",
   "metadata": {},
   "outputs": [],
   "source": [
    "df['Hobbies'] = df['Hobbies'].str.split(',')"
   ]
  },
  {
   "cell_type": "code",
   "execution_count": 8,
   "id": "ad672255-c254-481f-a072-c38150bebe59",
   "metadata": {},
   "outputs": [
    {
     "data": {
      "text/plain": [
       "0        [Cooking,  Baking]\n",
       "1        [Cooking,  Baking]\n",
       "2    [Video Games,  Baking]\n",
       "3        [Baking,  Cooking]\n",
       "4     [Gardening,  Cooking]\n",
       "Name: Hobbies, dtype: object"
      ]
     },
     "execution_count": 8,
     "metadata": {},
     "output_type": "execute_result"
    }
   ],
   "source": [
    "df[\"Hobbies\"].head()"
   ]
  },
  {
   "cell_type": "code",
   "execution_count": 9,
   "id": "7dd95b32-d79e-4fa0-8f64-fe9c358bf214",
   "metadata": {},
   "outputs": [],
   "source": [
    "df['Hobbies'] = df['Hobbies'].apply(lambda x: [h.strip() for h in x])"
   ]
  },
  {
   "cell_type": "code",
   "execution_count": 10,
   "id": "a813e1ae-bc9e-4172-8828-3f708732b86c",
   "metadata": {},
   "outputs": [],
   "source": [
    "mlb = MultiLabelBinarizer()\n",
    "hobby_encoded = pd.DataFrame(mlb.fit_transform(df['Hobbies']), columns=mlb.classes_, index=df.index)"
   ]
  },
  {
   "cell_type": "code",
   "execution_count": 11,
   "id": "ed08676b-6ff2-4c28-9400-a814ebd5a2c2",
   "metadata": {},
   "outputs": [],
   "source": [
    "df = pd.concat([df.drop(columns=['Hobbies']), hobby_encoded], axis=1)"
   ]
  },
  {
   "cell_type": "code",
   "execution_count": 12,
   "id": "f7c19a63-f0d8-433c-b67b-2879a0d8dc67",
   "metadata": {},
   "outputs": [
    {
     "data": {
      "text/html": [
       "<div>\n",
       "<style scoped>\n",
       "    .dataframe tbody tr th:only-of-type {\n",
       "        vertical-align: middle;\n",
       "    }\n",
       "\n",
       "    .dataframe tbody tr th {\n",
       "        vertical-align: top;\n",
       "    }\n",
       "\n",
       "    .dataframe thead th {\n",
       "        text-align: right;\n",
       "    }\n",
       "</style>\n",
       "<table border=\"1\" class=\"dataframe\">\n",
       "  <thead>\n",
       "    <tr style=\"text-align: right;\">\n",
       "      <th></th>\n",
       "      <th>Income</th>\n",
       "      <th>Age</th>\n",
       "      <th>Occupation</th>\n",
       "      <th>City_Tier</th>\n",
       "      <th>Loan_Repayment</th>\n",
       "      <th>Fixed Expenses</th>\n",
       "      <th>Investment</th>\n",
       "      <th>Savings</th>\n",
       "      <th>Shopping_Frequency</th>\n",
       "      <th>Class</th>\n",
       "      <th>...</th>\n",
       "      <th>Fitness</th>\n",
       "      <th>Gaming</th>\n",
       "      <th>Gardening</th>\n",
       "      <th>Photography</th>\n",
       "      <th>Reading</th>\n",
       "      <th>Social Media</th>\n",
       "      <th>Sports</th>\n",
       "      <th>Travel</th>\n",
       "      <th>Video Games</th>\n",
       "      <th>Writing</th>\n",
       "    </tr>\n",
       "  </thead>\n",
       "  <tbody>\n",
       "    <tr>\n",
       "      <th>0</th>\n",
       "      <td>44637.0</td>\n",
       "      <td>49</td>\n",
       "      <td>2</td>\n",
       "      <td>0</td>\n",
       "      <td>0.00</td>\n",
       "      <td>33371.621929</td>\n",
       "      <td>5918.45</td>\n",
       "      <td>5347.18</td>\n",
       "      <td>8</td>\n",
       "      <td>0</td>\n",
       "      <td>...</td>\n",
       "      <td>0</td>\n",
       "      <td>0</td>\n",
       "      <td>0</td>\n",
       "      <td>0</td>\n",
       "      <td>0</td>\n",
       "      <td>0</td>\n",
       "      <td>0</td>\n",
       "      <td>0</td>\n",
       "      <td>0</td>\n",
       "      <td>0</td>\n",
       "    </tr>\n",
       "    <tr>\n",
       "      <th>1</th>\n",
       "      <td>26859.0</td>\n",
       "      <td>34</td>\n",
       "      <td>1</td>\n",
       "      <td>1</td>\n",
       "      <td>0.00</td>\n",
       "      <td>17181.777859</td>\n",
       "      <td>2021.16</td>\n",
       "      <td>7655.66</td>\n",
       "      <td>4</td>\n",
       "      <td>1</td>\n",
       "      <td>...</td>\n",
       "      <td>0</td>\n",
       "      <td>0</td>\n",
       "      <td>0</td>\n",
       "      <td>0</td>\n",
       "      <td>0</td>\n",
       "      <td>0</td>\n",
       "      <td>0</td>\n",
       "      <td>0</td>\n",
       "      <td>0</td>\n",
       "      <td>0</td>\n",
       "    </tr>\n",
       "    <tr>\n",
       "      <th>2</th>\n",
       "      <td>50368.0</td>\n",
       "      <td>35</td>\n",
       "      <td>3</td>\n",
       "      <td>2</td>\n",
       "      <td>4612.10</td>\n",
       "      <td>31864.051073</td>\n",
       "      <td>6762.07</td>\n",
       "      <td>7129.38</td>\n",
       "      <td>7</td>\n",
       "      <td>0</td>\n",
       "      <td>...</td>\n",
       "      <td>0</td>\n",
       "      <td>0</td>\n",
       "      <td>0</td>\n",
       "      <td>0</td>\n",
       "      <td>0</td>\n",
       "      <td>0</td>\n",
       "      <td>0</td>\n",
       "      <td>0</td>\n",
       "      <td>1</td>\n",
       "      <td>0</td>\n",
       "    </tr>\n",
       "    <tr>\n",
       "      <th>3</th>\n",
       "      <td>101456.0</td>\n",
       "      <td>21</td>\n",
       "      <td>2</td>\n",
       "      <td>2</td>\n",
       "      <td>6809.44</td>\n",
       "      <td>63028.205206</td>\n",
       "      <td>15974.01</td>\n",
       "      <td>15643.94</td>\n",
       "      <td>15</td>\n",
       "      <td>2</td>\n",
       "      <td>...</td>\n",
       "      <td>0</td>\n",
       "      <td>0</td>\n",
       "      <td>0</td>\n",
       "      <td>0</td>\n",
       "      <td>0</td>\n",
       "      <td>0</td>\n",
       "      <td>0</td>\n",
       "      <td>0</td>\n",
       "      <td>0</td>\n",
       "      <td>0</td>\n",
       "    </tr>\n",
       "    <tr>\n",
       "      <th>4</th>\n",
       "      <td>24875.0</td>\n",
       "      <td>52</td>\n",
       "      <td>0</td>\n",
       "      <td>1</td>\n",
       "      <td>3112.61</td>\n",
       "      <td>15496.973617</td>\n",
       "      <td>1874.66</td>\n",
       "      <td>4391.04</td>\n",
       "      <td>4</td>\n",
       "      <td>0</td>\n",
       "      <td>...</td>\n",
       "      <td>0</td>\n",
       "      <td>0</td>\n",
       "      <td>1</td>\n",
       "      <td>0</td>\n",
       "      <td>0</td>\n",
       "      <td>0</td>\n",
       "      <td>0</td>\n",
       "      <td>0</td>\n",
       "      <td>0</td>\n",
       "      <td>0</td>\n",
       "    </tr>\n",
       "  </tbody>\n",
       "</table>\n",
       "<p>5 rows × 23 columns</p>\n",
       "</div>"
      ],
      "text/plain": [
       "     Income  Age  Occupation  City_Tier  Loan_Repayment  Fixed Expenses  \\\n",
       "0   44637.0   49           2          0            0.00    33371.621929   \n",
       "1   26859.0   34           1          1            0.00    17181.777859   \n",
       "2   50368.0   35           3          2         4612.10    31864.051073   \n",
       "3  101456.0   21           2          2         6809.44    63028.205206   \n",
       "4   24875.0   52           0          1         3112.61    15496.973617   \n",
       "\n",
       "   Investment   Savings  Shopping_Frequency  Class  ...  Fitness  Gaming  \\\n",
       "0     5918.45   5347.18                   8      0  ...        0       0   \n",
       "1     2021.16   7655.66                   4      1  ...        0       0   \n",
       "2     6762.07   7129.38                   7      0  ...        0       0   \n",
       "3    15974.01  15643.94                  15      2  ...        0       0   \n",
       "4     1874.66   4391.04                   4      0  ...        0       0   \n",
       "\n",
       "   Gardening  Photography  Reading  Social Media  Sports  Travel  Video Games  \\\n",
       "0          0            0        0             0       0       0            0   \n",
       "1          0            0        0             0       0       0            0   \n",
       "2          0            0        0             0       0       0            1   \n",
       "3          0            0        0             0       0       0            0   \n",
       "4          1            0        0             0       0       0            0   \n",
       "\n",
       "   Writing  \n",
       "0        0  \n",
       "1        0  \n",
       "2        0  \n",
       "3        0  \n",
       "4        0  \n",
       "\n",
       "[5 rows x 23 columns]"
      ]
     },
     "execution_count": 12,
     "metadata": {},
     "output_type": "execute_result"
    }
   ],
   "source": [
    "df.head()"
   ]
  },
  {
   "cell_type": "code",
   "execution_count": 13,
   "id": "fdc346f5-9a31-4260-a291-9a51da78894f",
   "metadata": {},
   "outputs": [
    {
     "data": {
      "text/plain": [
       "Index(['Income', 'Age', 'Occupation', 'City_Tier', 'Loan_Repayment',\n",
       "       'Fixed Expenses', 'Investment', 'Savings', 'Shopping_Frequency',\n",
       "       'Class', 'Baking', 'Cooking', 'Electronics', 'Fitness', 'Gaming',\n",
       "       'Gardening', 'Photography', 'Reading', 'Social Media', 'Sports',\n",
       "       'Travel', 'Video Games', 'Writing'],\n",
       "      dtype='object')"
      ]
     },
     "execution_count": 13,
     "metadata": {},
     "output_type": "execute_result"
    }
   ],
   "source": [
    "df.columns"
   ]
  },
  {
   "cell_type": "code",
   "execution_count": 14,
   "id": "206d7d62-6dfc-482d-8434-61e37a856907",
   "metadata": {},
   "outputs": [
    {
     "data": {
      "text/plain": [
       "array(['Professional', 'Retired', 'Self_Employed', 'Student'],\n",
       "      dtype=object)"
      ]
     },
     "execution_count": 14,
     "metadata": {},
     "output_type": "execute_result"
    }
   ],
   "source": [
    "le_occupation.classes_"
   ]
  },
  {
   "cell_type": "code",
   "execution_count": 15,
   "id": "7c41f4b4-8332-4224-9b84-46173ced1349",
   "metadata": {},
   "outputs": [
    {
     "data": {
      "text/plain": [
       "array(['Tier_1', 'Tier_2', 'Tier_3'], dtype=object)"
      ]
     },
     "execution_count": 15,
     "metadata": {},
     "output_type": "execute_result"
    }
   ],
   "source": [
    "le_city.classes_"
   ]
  },
  {
   "cell_type": "code",
   "execution_count": 16,
   "id": "f9ac8ba6-cd83-4419-bb84-04ac48788d10",
   "metadata": {},
   "outputs": [
    {
     "data": {
      "text/plain": [
       "array(['Neutral', 'Saver', 'Spender'], dtype=object)"
      ]
     },
     "execution_count": 16,
     "metadata": {},
     "output_type": "execute_result"
    }
   ],
   "source": [
    "le_class.classes_"
   ]
  },
  {
   "cell_type": "code",
   "execution_count": 17,
   "id": "c09be6da-80cf-4d84-a6a9-e5352bd80ced",
   "metadata": {},
   "outputs": [],
   "source": [
    "# Split into features and target\n",
    "X = df.drop(columns=['Class'])\n",
    "y = df['Class']"
   ]
  },
  {
   "cell_type": "code",
   "execution_count": 18,
   "id": "4b131c08-a04d-4af1-a32e-267ab08369ee",
   "metadata": {},
   "outputs": [],
   "source": [
    "numerical_cols = ['Income', 'Age', 'Loan_Repayment', 'Fixed Expenses', 'Investment', 'Savings', 'Shopping_Frequency']\n",
    "\n",
    "scaler = StandardScaler()\n",
    "X[numerical_cols] = scaler.fit_transform(X[numerical_cols])"
   ]
  },
  {
   "cell_type": "code",
   "execution_count": 19,
   "id": "44755cd7-ed8d-4e9b-9ecf-fa42cb224ab1",
   "metadata": {},
   "outputs": [],
   "source": [
    "X_train, X_test, y_train, y_test = train_test_split(X, y, test_size=0.2, random_state=42)"
   ]
  },
  {
   "cell_type": "code",
   "execution_count": 20,
   "id": "4b0aee9f-a91c-4aed-9a68-7ecde6d3b8db",
   "metadata": {},
   "outputs": [
    {
     "data": {
      "text/html": [
       "<style>#sk-container-id-1 {color: black;}#sk-container-id-1 pre{padding: 0;}#sk-container-id-1 div.sk-toggleable {background-color: white;}#sk-container-id-1 label.sk-toggleable__label {cursor: pointer;display: block;width: 100%;margin-bottom: 0;padding: 0.3em;box-sizing: border-box;text-align: center;}#sk-container-id-1 label.sk-toggleable__label-arrow:before {content: \"▸\";float: left;margin-right: 0.25em;color: #696969;}#sk-container-id-1 label.sk-toggleable__label-arrow:hover:before {color: black;}#sk-container-id-1 div.sk-estimator:hover label.sk-toggleable__label-arrow:before {color: black;}#sk-container-id-1 div.sk-toggleable__content {max-height: 0;max-width: 0;overflow: hidden;text-align: left;background-color: #f0f8ff;}#sk-container-id-1 div.sk-toggleable__content pre {margin: 0.2em;color: black;border-radius: 0.25em;background-color: #f0f8ff;}#sk-container-id-1 input.sk-toggleable__control:checked~div.sk-toggleable__content {max-height: 200px;max-width: 100%;overflow: auto;}#sk-container-id-1 input.sk-toggleable__control:checked~label.sk-toggleable__label-arrow:before {content: \"▾\";}#sk-container-id-1 div.sk-estimator input.sk-toggleable__control:checked~label.sk-toggleable__label {background-color: #d4ebff;}#sk-container-id-1 div.sk-label input.sk-toggleable__control:checked~label.sk-toggleable__label {background-color: #d4ebff;}#sk-container-id-1 input.sk-hidden--visually {border: 0;clip: rect(1px 1px 1px 1px);clip: rect(1px, 1px, 1px, 1px);height: 1px;margin: -1px;overflow: hidden;padding: 0;position: absolute;width: 1px;}#sk-container-id-1 div.sk-estimator {font-family: monospace;background-color: #f0f8ff;border: 1px dotted black;border-radius: 0.25em;box-sizing: border-box;margin-bottom: 0.5em;}#sk-container-id-1 div.sk-estimator:hover {background-color: #d4ebff;}#sk-container-id-1 div.sk-parallel-item::after {content: \"\";width: 100%;border-bottom: 1px solid gray;flex-grow: 1;}#sk-container-id-1 div.sk-label:hover label.sk-toggleable__label {background-color: #d4ebff;}#sk-container-id-1 div.sk-serial::before {content: \"\";position: absolute;border-left: 1px solid gray;box-sizing: border-box;top: 0;bottom: 0;left: 50%;z-index: 0;}#sk-container-id-1 div.sk-serial {display: flex;flex-direction: column;align-items: center;background-color: white;padding-right: 0.2em;padding-left: 0.2em;position: relative;}#sk-container-id-1 div.sk-item {position: relative;z-index: 1;}#sk-container-id-1 div.sk-parallel {display: flex;align-items: stretch;justify-content: center;background-color: white;position: relative;}#sk-container-id-1 div.sk-item::before, #sk-container-id-1 div.sk-parallel-item::before {content: \"\";position: absolute;border-left: 1px solid gray;box-sizing: border-box;top: 0;bottom: 0;left: 50%;z-index: -1;}#sk-container-id-1 div.sk-parallel-item {display: flex;flex-direction: column;z-index: 1;position: relative;background-color: white;}#sk-container-id-1 div.sk-parallel-item:first-child::after {align-self: flex-end;width: 50%;}#sk-container-id-1 div.sk-parallel-item:last-child::after {align-self: flex-start;width: 50%;}#sk-container-id-1 div.sk-parallel-item:only-child::after {width: 0;}#sk-container-id-1 div.sk-dashed-wrapped {border: 1px dashed gray;margin: 0 0.4em 0.5em 0.4em;box-sizing: border-box;padding-bottom: 0.4em;background-color: white;}#sk-container-id-1 div.sk-label label {font-family: monospace;font-weight: bold;display: inline-block;line-height: 1.2em;}#sk-container-id-1 div.sk-label-container {text-align: center;}#sk-container-id-1 div.sk-container {/* jupyter's `normalize.less` sets `[hidden] { display: none; }` but bootstrap.min.css set `[hidden] { display: none !important; }` so we also need the `!important` here to be able to override the default hidden behavior on the sphinx rendered scikit-learn.org. See: https://github.com/scikit-learn/scikit-learn/issues/21755 */display: inline-block !important;position: relative;}#sk-container-id-1 div.sk-text-repr-fallback {display: none;}</style><div id=\"sk-container-id-1\" class=\"sk-top-container\"><div class=\"sk-text-repr-fallback\"><pre>RandomForestClassifier(random_state=42)</pre><b>In a Jupyter environment, please rerun this cell to show the HTML representation or trust the notebook. <br />On GitHub, the HTML representation is unable to render, please try loading this page with nbviewer.org.</b></div><div class=\"sk-container\" hidden><div class=\"sk-item\"><div class=\"sk-estimator sk-toggleable\"><input class=\"sk-toggleable__control sk-hidden--visually\" id=\"sk-estimator-id-1\" type=\"checkbox\" checked><label for=\"sk-estimator-id-1\" class=\"sk-toggleable__label sk-toggleable__label-arrow\">RandomForestClassifier</label><div class=\"sk-toggleable__content\"><pre>RandomForestClassifier(random_state=42)</pre></div></div></div></div></div>"
      ],
      "text/plain": [
       "RandomForestClassifier(random_state=42)"
      ]
     },
     "execution_count": 20,
     "metadata": {},
     "output_type": "execute_result"
    }
   ],
   "source": [
    "# Train Random Forest model\n",
    "model = RandomForestClassifier(n_estimators=100, random_state=42)\n",
    "model.fit(X_train, y_train)"
   ]
  },
  {
   "cell_type": "code",
   "execution_count": 21,
   "id": "369d1726-5302-4e4b-817e-66b7cbb8e118",
   "metadata": {},
   "outputs": [
    {
     "data": {
      "text/plain": [
       "1.0"
      ]
     },
     "execution_count": 21,
     "metadata": {},
     "output_type": "execute_result"
    }
   ],
   "source": [
    "model.score(X_train,y_train)"
   ]
  },
  {
   "cell_type": "code",
   "execution_count": 22,
   "id": "0b14f2e2-7490-491c-a652-3276ab49c513",
   "metadata": {},
   "outputs": [
    {
     "data": {
      "text/plain": [
       "0.955"
      ]
     },
     "execution_count": 22,
     "metadata": {},
     "output_type": "execute_result"
    }
   ],
   "source": [
    "model.score(X_test,y_test)"
   ]
  },
  {
   "cell_type": "code",
   "execution_count": 23,
   "id": "4741b8a7-c2cd-42c9-a744-d2a635173cc2",
   "metadata": {},
   "outputs": [],
   "source": [
    "y_pred = model.predict(X_test)"
   ]
  },
  {
   "cell_type": "code",
   "execution_count": 24,
   "id": "922256a6-fed5-421a-b6c8-5b1d44216716",
   "metadata": {},
   "outputs": [
    {
     "name": "stdout",
     "output_type": "stream",
     "text": [
      "✅ Accuracy: 0.955\n",
      "\n",
      "📊 Classification Report:\n",
      "               precision    recall  f1-score   support\n",
      "\n",
      "     Neutral       0.95      0.96      0.96      1841\n",
      "       Saver       0.92      0.90      0.91       869\n",
      "     Spender       0.98      0.98      0.98      1290\n",
      "\n",
      "    accuracy                           0.95      4000\n",
      "   macro avg       0.95      0.95      0.95      4000\n",
      "weighted avg       0.95      0.95      0.95      4000\n",
      "\n",
      "\n",
      "🧩 Confusion Matrix:\n",
      " [[1768   70    3]\n",
      " [  69  782   18]\n",
      " [  18    2 1270]]\n"
     ]
    }
   ],
   "source": [
    "print(\"✅ Accuracy:\", accuracy_score(y_test, y_pred))\n",
    "print(\"\\n📊 Classification Report:\\n\", classification_report(y_test, y_pred, target_names=le_class.classes_))\n",
    "print(\"\\n🧩 Confusion Matrix:\\n\", confusion_matrix(y_test, y_pred))"
   ]
  },
  {
   "cell_type": "code",
   "execution_count": 25,
   "id": "a84cec2f-68ff-4e90-8c98-f772ce6ae2dd",
   "metadata": {},
   "outputs": [
    {
     "name": "stdout",
     "output_type": "stream",
     "text": [
      "🔹 Logistic Regression Accuracy: 0.8715\n",
      "              precision    recall  f1-score   support\n",
      "\n",
      "     Neutral       0.84      0.90      0.87      1841\n",
      "       Saver       0.93      0.94      0.94       869\n",
      "     Spender       0.88      0.79      0.83      1290\n",
      "\n",
      "    accuracy                           0.87      4000\n",
      "   macro avg       0.88      0.87      0.88      4000\n",
      "weighted avg       0.87      0.87      0.87      4000\n",
      "\n",
      "🔹 XGBoost Accuracy: 0.9828\n",
      "              precision    recall  f1-score   support\n",
      "\n",
      "     Neutral       0.98      0.98      0.98      1841\n",
      "       Saver       0.97      0.97      0.97       869\n",
      "     Spender       0.99      0.99      0.99      1290\n",
      "\n",
      "    accuracy                           0.98      4000\n",
      "   macro avg       0.98      0.98      0.98      4000\n",
      "weighted avg       0.98      0.98      0.98      4000\n",
      "\n",
      "🔹 Random Forest Accuracy: 0.9550\n",
      "              precision    recall  f1-score   support\n",
      "\n",
      "     Neutral       0.95      0.96      0.96      1841\n",
      "       Saver       0.92      0.90      0.91       869\n",
      "     Spender       0.98      0.98      0.98      1290\n",
      "\n",
      "    accuracy                           0.95      4000\n",
      "   macro avg       0.95      0.95      0.95      4000\n",
      "weighted avg       0.95      0.95      0.95      4000\n",
      "\n"
     ]
    }
   ],
   "source": [
    "models = {\n",
    "    \"Logistic Regression\": LogisticRegression(max_iter=1000),\n",
    "    \"XGBoost\": XGBClassifier(eval_metric='mlogloss', random_state=42),\n",
    "     \"Random Forest\": RandomForestClassifier(n_estimators=100, random_state=42)\n",
    "}\n",
    "\n",
    "for name, model in models.items():\n",
    "    model.fit(X_train, y_train)\n",
    "    y_pred = model.predict(X_test)\n",
    "    print(f\"🔹 {name} Accuracy: {accuracy_score(y_test, y_pred):.4f}\")\n",
    "    print(classification_report(y_test, y_pred, target_names=le_class.classes_))"
   ]
  },
  {
   "cell_type": "code",
   "execution_count": 26,
   "id": "df76fecc-852f-4167-aec7-fc760f404aa4",
   "metadata": {},
   "outputs": [
    {
     "data": {
      "text/html": [
       "<style>#sk-container-id-2 {color: black;}#sk-container-id-2 pre{padding: 0;}#sk-container-id-2 div.sk-toggleable {background-color: white;}#sk-container-id-2 label.sk-toggleable__label {cursor: pointer;display: block;width: 100%;margin-bottom: 0;padding: 0.3em;box-sizing: border-box;text-align: center;}#sk-container-id-2 label.sk-toggleable__label-arrow:before {content: \"▸\";float: left;margin-right: 0.25em;color: #696969;}#sk-container-id-2 label.sk-toggleable__label-arrow:hover:before {color: black;}#sk-container-id-2 div.sk-estimator:hover label.sk-toggleable__label-arrow:before {color: black;}#sk-container-id-2 div.sk-toggleable__content {max-height: 0;max-width: 0;overflow: hidden;text-align: left;background-color: #f0f8ff;}#sk-container-id-2 div.sk-toggleable__content pre {margin: 0.2em;color: black;border-radius: 0.25em;background-color: #f0f8ff;}#sk-container-id-2 input.sk-toggleable__control:checked~div.sk-toggleable__content {max-height: 200px;max-width: 100%;overflow: auto;}#sk-container-id-2 input.sk-toggleable__control:checked~label.sk-toggleable__label-arrow:before {content: \"▾\";}#sk-container-id-2 div.sk-estimator input.sk-toggleable__control:checked~label.sk-toggleable__label {background-color: #d4ebff;}#sk-container-id-2 div.sk-label input.sk-toggleable__control:checked~label.sk-toggleable__label {background-color: #d4ebff;}#sk-container-id-2 input.sk-hidden--visually {border: 0;clip: rect(1px 1px 1px 1px);clip: rect(1px, 1px, 1px, 1px);height: 1px;margin: -1px;overflow: hidden;padding: 0;position: absolute;width: 1px;}#sk-container-id-2 div.sk-estimator {font-family: monospace;background-color: #f0f8ff;border: 1px dotted black;border-radius: 0.25em;box-sizing: border-box;margin-bottom: 0.5em;}#sk-container-id-2 div.sk-estimator:hover {background-color: #d4ebff;}#sk-container-id-2 div.sk-parallel-item::after {content: \"\";width: 100%;border-bottom: 1px solid gray;flex-grow: 1;}#sk-container-id-2 div.sk-label:hover label.sk-toggleable__label {background-color: #d4ebff;}#sk-container-id-2 div.sk-serial::before {content: \"\";position: absolute;border-left: 1px solid gray;box-sizing: border-box;top: 0;bottom: 0;left: 50%;z-index: 0;}#sk-container-id-2 div.sk-serial {display: flex;flex-direction: column;align-items: center;background-color: white;padding-right: 0.2em;padding-left: 0.2em;position: relative;}#sk-container-id-2 div.sk-item {position: relative;z-index: 1;}#sk-container-id-2 div.sk-parallel {display: flex;align-items: stretch;justify-content: center;background-color: white;position: relative;}#sk-container-id-2 div.sk-item::before, #sk-container-id-2 div.sk-parallel-item::before {content: \"\";position: absolute;border-left: 1px solid gray;box-sizing: border-box;top: 0;bottom: 0;left: 50%;z-index: -1;}#sk-container-id-2 div.sk-parallel-item {display: flex;flex-direction: column;z-index: 1;position: relative;background-color: white;}#sk-container-id-2 div.sk-parallel-item:first-child::after {align-self: flex-end;width: 50%;}#sk-container-id-2 div.sk-parallel-item:last-child::after {align-self: flex-start;width: 50%;}#sk-container-id-2 div.sk-parallel-item:only-child::after {width: 0;}#sk-container-id-2 div.sk-dashed-wrapped {border: 1px dashed gray;margin: 0 0.4em 0.5em 0.4em;box-sizing: border-box;padding-bottom: 0.4em;background-color: white;}#sk-container-id-2 div.sk-label label {font-family: monospace;font-weight: bold;display: inline-block;line-height: 1.2em;}#sk-container-id-2 div.sk-label-container {text-align: center;}#sk-container-id-2 div.sk-container {/* jupyter's `normalize.less` sets `[hidden] { display: none; }` but bootstrap.min.css set `[hidden] { display: none !important; }` so we also need the `!important` here to be able to override the default hidden behavior on the sphinx rendered scikit-learn.org. See: https://github.com/scikit-learn/scikit-learn/issues/21755 */display: inline-block !important;position: relative;}#sk-container-id-2 div.sk-text-repr-fallback {display: none;}</style><div id=\"sk-container-id-2\" class=\"sk-top-container\"><div class=\"sk-text-repr-fallback\"><pre>RandomForestClassifier(random_state=42)</pre><b>In a Jupyter environment, please rerun this cell to show the HTML representation or trust the notebook. <br />On GitHub, the HTML representation is unable to render, please try loading this page with nbviewer.org.</b></div><div class=\"sk-container\" hidden><div class=\"sk-item\"><div class=\"sk-estimator sk-toggleable\"><input class=\"sk-toggleable__control sk-hidden--visually\" id=\"sk-estimator-id-2\" type=\"checkbox\" checked><label for=\"sk-estimator-id-2\" class=\"sk-toggleable__label sk-toggleable__label-arrow\">RandomForestClassifier</label><div class=\"sk-toggleable__content\"><pre>RandomForestClassifier(random_state=42)</pre></div></div></div></div></div>"
      ],
      "text/plain": [
       "RandomForestClassifier(random_state=42)"
      ]
     },
     "execution_count": 26,
     "metadata": {},
     "output_type": "execute_result"
    }
   ],
   "source": [
    "model"
   ]
  },
  {
   "cell_type": "code",
   "execution_count": 27,
   "id": "494d1dd3-d008-45de-a898-476e146af752",
   "metadata": {},
   "outputs": [
    {
     "data": {
      "text/plain": [
       "['model/random_foest_model.pkl']"
      ]
     },
     "execution_count": 27,
     "metadata": {},
     "output_type": "execute_result"
    }
   ],
   "source": [
    "#save model\n",
    "joblib.dump(model,\"model/random_foest_model.pkl\")"
   ]
  },
  {
   "cell_type": "code",
   "execution_count": 28,
   "id": "e8a56501-b5fd-49c1-8c11-84ad50070516",
   "metadata": {},
   "outputs": [
    {
     "data": {
      "text/plain": [
       "['model/label_encoder_class.pkl']"
      ]
     },
     "execution_count": 28,
     "metadata": {},
     "output_type": "execute_result"
    }
   ],
   "source": [
    "# Save encoders\n",
    "joblib.dump(le_occupation, \"model/label_encoder_occupation.pkl\")\n",
    "joblib.dump(le_city, \"model/label_encoder_city_tier.pkl\")\n",
    "joblib.dump(le_class, \"model/label_encoder_class.pkl\")"
   ]
  },
  {
   "cell_type": "code",
   "execution_count": 29,
   "id": "307990b2-e62e-44f1-9661-bbd134ce7877",
   "metadata": {},
   "outputs": [
    {
     "data": {
      "text/plain": [
       "['model/standard_scaler.pkl']"
      ]
     },
     "execution_count": 29,
     "metadata": {},
     "output_type": "execute_result"
    }
   ],
   "source": [
    "# Save scaler\n",
    "joblib.dump(scaler, \"model/standard_scaler.pkl\")"
   ]
  },
  {
   "cell_type": "code",
   "execution_count": null,
   "id": "4df4175a-00eb-421d-9c70-370353649205",
   "metadata": {},
   "outputs": [],
   "source": []
  }
 ],
 "metadata": {
  "kernelspec": {
   "display_name": "Python 3 (ipykernel)",
   "language": "python",
   "name": "python3"
  },
  "language_info": {
   "codemirror_mode": {
    "name": "ipython",
    "version": 3
   },
   "file_extension": ".py",
   "mimetype": "text/x-python",
   "name": "python",
   "nbconvert_exporter": "python",
   "pygments_lexer": "ipython3",
   "version": "3.12.7"
  }
 },
 "nbformat": 4,
 "nbformat_minor": 5
}
